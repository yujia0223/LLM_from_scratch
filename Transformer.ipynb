{
  "nbformat": 4,
  "nbformat_minor": 0,
  "metadata": {
    "colab": {
      "provenance": [],
      "gpuType": "T4",
      "authorship_tag": "ABX9TyMR5uxMoU4nRLcikczxce/Z",
      "include_colab_link": true
    },
    "kernelspec": {
      "name": "python3",
      "display_name": "Python 3"
    },
    "language_info": {
      "name": "python"
    },
    "accelerator": "GPU"
  },
  "cells": [
    {
      "cell_type": "markdown",
      "metadata": {
        "id": "view-in-github",
        "colab_type": "text"
      },
      "source": [
        "<a href=\"https://colab.research.google.com/github/yujia0223/LLM_from_scratch/blob/main/Transformer.ipynb\" target=\"_parent\"><img src=\"https://colab.research.google.com/assets/colab-badge.svg\" alt=\"Open In Colab\"/></a>"
      ]
    },
    {
      "cell_type": "code",
      "execution_count": null,
      "metadata": {
        "id": "p9XRb93CS6TP"
      },
      "outputs": [],
      "source": []
    },
    {
      "cell_type": "markdown",
      "source": [
        "RNN Problems:\n",
        "\n",
        "1.   long range dependencies (not well on long text documents)\n",
        "2.   Gradient vanishing and gradient explosion\n",
        "3.   Larger training steps to reach a local/global minima.\n",
        "4.   Not allow parallel computation\n",
        "\n",
        "Transformer solution:\n",
        "\n",
        "\n",
        "1.   Exclusively use attention blocks. Attention helps to draw connections between any parts of the sequence, so long-range dependencies are not a problem anymore. With transformers, long-range dependencies have the same likelihood of being taken into account as any other short-range dependencies.\n",
        "2.   There is little to no gradient vanishing or explosion problem. In Transformer networks, the entire sequence is trained simultaneously, and to build on that only a few more layers are added. So gradient vanishing or explosion is rarely an issue.\n",
        "3.   Requires fewer steps to train than an RNN\n",
        "4.   No recurrence in the transformer networks allows parallel computation. So computation can be done in parallel for every step.\n",
        "\n",
        "\n"
      ],
      "metadata": {
        "id": "9WrPqYb9USzR"
      }
    },
    {
      "cell_type": "code",
      "source": [
        "import torch\n",
        "import torch.nn as nn\n",
        "import torch.optim as optim\n",
        "import torch.utils.data as data\n",
        "import math\n",
        "import copy"
      ],
      "metadata": {
        "id": "yV2KFXQOXas6"
      },
      "execution_count": 1,
      "outputs": []
    },
    {
      "cell_type": "code",
      "source": [
        "class MultiHeadAttention(nn.Module):\n",
        "    def __init__(self, d_model, num_heads):\n",
        "        super(MultiHeadAttention, self).__init__()\n",
        "        assert d_model % num_heads == 0, \"d_model must be divisible by num_heads\"\n",
        "\n",
        "        self.d_model = d_model\n",
        "        self.num_heads = num_heads\n",
        "        self.d_k = d_model // num_heads\n",
        "\n",
        "        self.W_q = nn.Linear(d_model, d_model)\n",
        "        self.W_k = nn.Linear(d_model, d_model)\n",
        "        self.W_v = nn.Linear(d_model, d_model)\n",
        "        self.W_o = nn.Linear(d_model, d_model)\n",
        "\n",
        "    def scaled_dot_product_attention(self, Q, K, V, mask=None):\n",
        "        attn_scores = torch.matmul(Q, K.transpose(-2, -1)) / math.sqrt(self.d_k)\n",
        "        if mask is not None:\n",
        "            attn_scores = attn_scores.masked_fill(mask == 0, -1e9)\n",
        "        attn_probs = torch.softmax(attn_scores, dim=-1)\n",
        "        output = torch.matmul(attn_probs, V)\n",
        "        return output\n",
        "\n",
        "    def split_heads(self, x):\n",
        "        batch_size, seq_length, d_model = x.size()\n",
        "        return x.view(batch_size, seq_length, self.num_heads, self.d_k).transpose(1, 2)\n",
        "\n",
        "    def combine_heads(self, x):\n",
        "        batch_size, _, seq_length, d_k = x.size()\n",
        "        return x.transpose(1, 2).contiguous().view(batch_size, seq_length, self.d_model)\n",
        "\n",
        "    def forward(self, Q, K, V, mask=None):\n",
        "        Q = self.split_heads(self.W_q(Q))\n",
        "        K = self.split_heads(self.W_k(K))\n",
        "        V = self.split_heads(self.W_v(V))\n",
        "\n",
        "        attn_output = self.scaled_dot_product_attention(Q, K, V, mask)\n",
        "        output = self.W_o(self.combine_heads(attn_output))\n",
        "        return output"
      ],
      "metadata": {
        "id": "0zkv562dd7mZ"
      },
      "execution_count": 2,
      "outputs": []
    },
    {
      "cell_type": "code",
      "source": [
        "class PositionWiseFeedForward(nn.Module):\n",
        "    def __init__(self, d_model, d_ff):\n",
        "        super(PositionWiseFeedForward, self).__init__()\n",
        "        self.fc1 = nn.Linear(d_model, d_ff)\n",
        "        self.fc2 = nn.Linear(d_ff, d_model)\n",
        "        self.relu = nn.ReLU()\n",
        "\n",
        "    def forward(self, x):\n",
        "        return self.fc2(self.relu(self.fc1(x)))"
      ],
      "metadata": {
        "id": "erHlJ4kCgSln"
      },
      "execution_count": 3,
      "outputs": []
    },
    {
      "cell_type": "code",
      "source": [
        "class PositionalEncoding(nn.Module):\n",
        "    def __init__(self, d_model, max_seq_length):\n",
        "        super(PositionalEncoding, self).__init__()\n",
        "\n",
        "        pe = torch.zeros(max_seq_length, d_model)\n",
        "        position = torch.arange(0, max_seq_length, dtype=torch.float).unsqueeze(1)\n",
        "        div_term = torch.exp(torch.arange(0, d_model, 2).float() * -(math.log(10000.0) / d_model))\n",
        "\n",
        "        pe[:, 0::2] = torch.sin(position * div_term)\n",
        "        pe[:, 1::2] = torch.cos(position * div_term)\n",
        "\n",
        "        self.register_buffer('pe', pe.unsqueeze(0))\n",
        "\n",
        "    def forward(self, x):\n",
        "        return x + self.pe[:, :x.size(1)]"
      ],
      "metadata": {
        "id": "u2j6Z9DZi_gk"
      },
      "execution_count": 4,
      "outputs": []
    },
    {
      "cell_type": "code",
      "source": [
        "class EncoderLayer(nn.Module):\n",
        "    def __init__(self, d_model, num_heads, d_ff, dropout):\n",
        "        super(EncoderLayer, self).__init__()\n",
        "        self.self_attn = MultiHeadAttention(d_model, num_heads)\n",
        "        self.feed_forward = PositionWiseFeedForward(d_model, d_ff)\n",
        "        self.norm1 = nn.LayerNorm(d_model)\n",
        "        self.norm2 = nn.LayerNorm(d_model)\n",
        "        self.dropout = nn.Dropout(dropout)\n",
        "\n",
        "    def forward(self, x, mask):\n",
        "        attn_output = self.self_attn(x, x, x, mask)\n",
        "        x = self.norm1(x + self.dropout(attn_output))\n",
        "        ff_output = self.feed_forward(x)\n",
        "        x = self.norm2(x + self.dropout(ff_output))\n",
        "        return x"
      ],
      "metadata": {
        "id": "jbDtMq3HjT8G"
      },
      "execution_count": 5,
      "outputs": []
    },
    {
      "cell_type": "code",
      "source": [
        "class DecoderLayer(nn.Module):\n",
        "    def __init__(self, d_model, num_heads, d_ff, dropout):\n",
        "        super(DecoderLayer, self).__init__()\n",
        "        self.self_attn = MultiHeadAttention(d_model, num_heads)\n",
        "        self.cross_attn = MultiHeadAttention(d_model, num_heads)\n",
        "        self.feed_forward = PositionWiseFeedForward(d_model, d_ff)\n",
        "        self.norm1 = nn.LayerNorm(d_model)\n",
        "        self.norm2 = nn.LayerNorm(d_model)\n",
        "        self.norm3 = nn.LayerNorm(d_model)\n",
        "        self.dropout = nn.Dropout(dropout)\n",
        "\n",
        "    def forward(self, x, enc_output, src_mask, tgt_mask):\n",
        "        attn_output = self.self_attn(x, x, x, tgt_mask)\n",
        "        x = self.norm1(x + self.dropout(attn_output))\n",
        "        attn_output = self.cross_attn(x, enc_output, enc_output, src_mask)\n",
        "        x = self.norm2(x + self.dropout(attn_output))\n",
        "        ff_output = self.feed_forward(x)\n",
        "        x = self.norm3(x + self.dropout(ff_output))\n",
        "        return x"
      ],
      "metadata": {
        "id": "s-5c5TiRj8Vn"
      },
      "execution_count": 6,
      "outputs": []
    },
    {
      "cell_type": "code",
      "source": [
        "class Transformer(nn.Module):\n",
        "    def __init__(self, src_vocab_size, tgt_vocab_size, d_model, num_heads, num_layers, d_ff, max_seq_length, dropout):\n",
        "        super(Transformer, self).__init__()\n",
        "        self.encoder_embedding = nn.Embedding(src_vocab_size, d_model)\n",
        "        self.decoder_embedding = nn.Embedding(tgt_vocab_size, d_model)\n",
        "        self.positional_encoding = PositionalEncoding(d_model, max_seq_length)\n",
        "\n",
        "        self.encoder_layers = nn.ModuleList([EncoderLayer(d_model, num_heads, d_ff, dropout) for _ in range(num_layers)])\n",
        "        self.decoder_layers = nn.ModuleList([DecoderLayer(d_model, num_heads, d_ff, dropout) for _ in range(num_layers)])\n",
        "\n",
        "        self.fc = nn.Linear(d_model, tgt_vocab_size)\n",
        "        self.dropout = nn.Dropout(dropout)\n",
        "\n",
        "    def generate_mask(self, src, tgt):\n",
        "        src_mask = (src != 0).unsqueeze(1).unsqueeze(2)\n",
        "        tgt_mask = (tgt != 0).unsqueeze(1).unsqueeze(3)\n",
        "        seq_length = tgt.size(1)\n",
        "        nopeak_mask = (1 - torch.triu(torch.ones(1, seq_length, seq_length), diagonal=1)).bool()\n",
        "        tgt_mask = tgt_mask & nopeak_mask\n",
        "        return src_mask, tgt_mask\n",
        "\n",
        "    def forward(self, src, tgt):\n",
        "        src_mask, tgt_mask = self.generate_mask(src, tgt)\n",
        "        src_embedded = self.dropout(self.positional_encoding(self.encoder_embedding(src)))\n",
        "        tgt_embedded = self.dropout(self.positional_encoding(self.decoder_embedding(tgt)))\n",
        "\n",
        "        enc_output = src_embedded\n",
        "        for enc_layer in self.encoder_layers:\n",
        "            enc_output = enc_layer(enc_output, src_mask)\n",
        "\n",
        "        dec_output = tgt_embedded\n",
        "        for dec_layer in self.decoder_layers:\n",
        "            dec_output = dec_layer(dec_output, enc_output, src_mask, tgt_mask)\n",
        "\n",
        "        output = self.fc(dec_output)\n",
        "        return output"
      ],
      "metadata": {
        "id": "hL-hf7Btkhe0"
      },
      "execution_count": 7,
      "outputs": []
    },
    {
      "cell_type": "code",
      "source": [
        "src_vocab_size = 5000\n",
        "tgt_vocab_size = 5000\n",
        "d_model = 512\n",
        "num_heads = 8\n",
        "num_layers = 6\n",
        "d_ff = 2048\n",
        "max_seq_length = 100\n",
        "dropout = 0.1\n",
        "\n",
        "transformer = Transformer(src_vocab_size, tgt_vocab_size, d_model, num_heads, num_layers, d_ff, max_seq_length, dropout)\n",
        "\n",
        "# Generate random sample data\n",
        "src_data = torch.randint(1, src_vocab_size, (64, max_seq_length))  # (batch_size, seq_length)\n",
        "tgt_data = torch.randint(1, tgt_vocab_size, (64, max_seq_length))  # (batch_size, seq_length)"
      ],
      "metadata": {
        "id": "j1kCsgVGkuFf"
      },
      "execution_count": 8,
      "outputs": []
    },
    {
      "cell_type": "code",
      "source": [
        "criterion = nn.CrossEntropyLoss(ignore_index=0)\n",
        "optimizer = optim.Adam(transformer.parameters(), lr=0.0001, betas=(0.9, 0.98), eps=1e-9)\n",
        "\n",
        "transformer.train()\n",
        "\n",
        "for epoch in range(100):\n",
        "    optimizer.zero_grad()\n",
        "    output = transformer(src_data, tgt_data[:, :-1])\n",
        "    loss = criterion(output.contiguous().view(-1, tgt_vocab_size), tgt_data[:, 1:].contiguous().view(-1))\n",
        "    loss.backward()\n",
        "    optimizer.step()\n",
        "    print(f\"Epoch: {epoch+1}, Loss: {loss.item()}\")"
      ],
      "metadata": {
        "colab": {
          "base_uri": "https://localhost:8080/"
        },
        "id": "3tI4eaYRkzA0",
        "outputId": "3fd4f353-84ce-4a02-99c2-5698b0e53eb2"
      },
      "execution_count": 9,
      "outputs": [
        {
          "output_type": "stream",
          "name": "stdout",
          "text": [
            "Epoch: 1, Loss: 8.68979263305664\n",
            "Epoch: 2, Loss: 8.551383972167969\n",
            "Epoch: 3, Loss: 8.479331016540527\n",
            "Epoch: 4, Loss: 8.429109573364258\n",
            "Epoch: 5, Loss: 8.372588157653809\n",
            "Epoch: 6, Loss: 8.306784629821777\n",
            "Epoch: 7, Loss: 8.228500366210938\n",
            "Epoch: 8, Loss: 8.142440795898438\n",
            "Epoch: 9, Loss: 8.060562133789062\n",
            "Epoch: 10, Loss: 7.98636531829834\n",
            "Epoch: 11, Loss: 7.904173374176025\n",
            "Epoch: 12, Loss: 7.82224178314209\n",
            "Epoch: 13, Loss: 7.743677139282227\n",
            "Epoch: 14, Loss: 7.6610026359558105\n",
            "Epoch: 15, Loss: 7.574618816375732\n",
            "Epoch: 16, Loss: 7.492306709289551\n",
            "Epoch: 17, Loss: 7.410502910614014\n",
            "Epoch: 18, Loss: 7.329535007476807\n",
            "Epoch: 19, Loss: 7.243875503540039\n",
            "Epoch: 20, Loss: 7.1728129386901855\n",
            "Epoch: 21, Loss: 7.093664169311523\n",
            "Epoch: 22, Loss: 7.0149688720703125\n",
            "Epoch: 23, Loss: 6.935993194580078\n",
            "Epoch: 24, Loss: 6.868237495422363\n",
            "Epoch: 25, Loss: 6.782022476196289\n",
            "Epoch: 26, Loss: 6.714837074279785\n",
            "Epoch: 27, Loss: 6.632271766662598\n",
            "Epoch: 28, Loss: 6.566507339477539\n",
            "Epoch: 29, Loss: 6.492220401763916\n",
            "Epoch: 30, Loss: 6.4236159324646\n",
            "Epoch: 31, Loss: 6.357588291168213\n",
            "Epoch: 32, Loss: 6.287065505981445\n",
            "Epoch: 33, Loss: 6.21864128112793\n",
            "Epoch: 34, Loss: 6.145872116088867\n",
            "Epoch: 35, Loss: 6.0845627784729\n",
            "Epoch: 36, Loss: 6.015660285949707\n",
            "Epoch: 37, Loss: 5.943858623504639\n",
            "Epoch: 38, Loss: 5.889603614807129\n",
            "Epoch: 39, Loss: 5.821741104125977\n",
            "Epoch: 40, Loss: 5.759692192077637\n",
            "Epoch: 41, Loss: 5.691303730010986\n",
            "Epoch: 42, Loss: 5.632940769195557\n",
            "Epoch: 43, Loss: 5.573612213134766\n",
            "Epoch: 44, Loss: 5.516519069671631\n",
            "Epoch: 45, Loss: 5.455326557159424\n",
            "Epoch: 46, Loss: 5.3938727378845215\n",
            "Epoch: 47, Loss: 5.334872722625732\n",
            "Epoch: 48, Loss: 5.274028778076172\n",
            "Epoch: 49, Loss: 5.2234320640563965\n",
            "Epoch: 50, Loss: 5.157840728759766\n",
            "Epoch: 51, Loss: 5.101099967956543\n",
            "Epoch: 52, Loss: 5.052778244018555\n",
            "Epoch: 53, Loss: 4.997706413269043\n",
            "Epoch: 54, Loss: 4.945256233215332\n",
            "Epoch: 55, Loss: 4.890441417694092\n",
            "Epoch: 56, Loss: 4.831784725189209\n",
            "Epoch: 57, Loss: 4.780179500579834\n",
            "Epoch: 58, Loss: 4.724006652832031\n",
            "Epoch: 59, Loss: 4.670722961425781\n",
            "Epoch: 60, Loss: 4.608792304992676\n",
            "Epoch: 61, Loss: 4.566437721252441\n",
            "Epoch: 62, Loss: 4.51014518737793\n",
            "Epoch: 63, Loss: 4.4616475105285645\n",
            "Epoch: 64, Loss: 4.4102864265441895\n",
            "Epoch: 65, Loss: 4.3558759689331055\n",
            "Epoch: 66, Loss: 4.303826808929443\n",
            "Epoch: 67, Loss: 4.259570598602295\n",
            "Epoch: 68, Loss: 4.205942153930664\n",
            "Epoch: 69, Loss: 4.158164024353027\n",
            "Epoch: 70, Loss: 4.11259126663208\n",
            "Epoch: 71, Loss: 4.059948444366455\n",
            "Epoch: 72, Loss: 4.009066104888916\n",
            "Epoch: 73, Loss: 3.958442449569702\n",
            "Epoch: 74, Loss: 3.9106435775756836\n",
            "Epoch: 75, Loss: 3.8636791706085205\n",
            "Epoch: 76, Loss: 3.8101084232330322\n",
            "Epoch: 77, Loss: 3.764539957046509\n",
            "Epoch: 78, Loss: 3.7157373428344727\n",
            "Epoch: 79, Loss: 3.6733553409576416\n",
            "Epoch: 80, Loss: 3.624814033508301\n",
            "Epoch: 81, Loss: 3.5771877765655518\n",
            "Epoch: 82, Loss: 3.5289604663848877\n",
            "Epoch: 83, Loss: 3.485025644302368\n",
            "Epoch: 84, Loss: 3.4424989223480225\n",
            "Epoch: 85, Loss: 3.3980579376220703\n",
            "Epoch: 86, Loss: 3.351689100265503\n",
            "Epoch: 87, Loss: 3.2996091842651367\n",
            "Epoch: 88, Loss: 3.259690523147583\n",
            "Epoch: 89, Loss: 3.2110912799835205\n",
            "Epoch: 90, Loss: 3.1703431606292725\n",
            "Epoch: 91, Loss: 3.1222071647644043\n",
            "Epoch: 92, Loss: 3.0843539237976074\n",
            "Epoch: 93, Loss: 3.0411200523376465\n",
            "Epoch: 94, Loss: 2.9952995777130127\n",
            "Epoch: 95, Loss: 2.952301025390625\n",
            "Epoch: 96, Loss: 2.9049460887908936\n",
            "Epoch: 97, Loss: 2.865020751953125\n",
            "Epoch: 98, Loss: 2.8181426525115967\n",
            "Epoch: 99, Loss: 2.7808756828308105\n",
            "Epoch: 100, Loss: 2.7393300533294678\n"
          ]
        }
      ]
    }
  ]
}